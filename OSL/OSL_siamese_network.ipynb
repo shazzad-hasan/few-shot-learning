{
  "nbformat": 4,
  "nbformat_minor": 0,
  "metadata": {
    "colab": {
      "name": "OSL_siamese_network.ipynb",
      "provenance": [],
      "machine_shape": "hm",
      "include_colab_link": true
    },
    "kernelspec": {
      "name": "python3",
      "display_name": "Python 3"
    },
    "language_info": {
      "name": "python"
    },
    "accelerator": "GPU",
    "gpuClass": "standard"
  },
  "cells": [
    {
      "cell_type": "markdown",
      "metadata": {
        "id": "view-in-github",
        "colab_type": "text"
      },
      "source": [
        "<a href=\"https://colab.research.google.com/github/shazzad-hasan/few-shot-learning/blob/main/OSL/OSL_siamese_network.ipynb\" target=\"_parent\"><img src=\"https://colab.research.google.com/assets/colab-badge.svg\" alt=\"Open In Colab\"/></a>"
      ]
    },
    {
      "cell_type": "code",
      "execution_count": null,
      "metadata": {
        "id": "fK1maxkjE9MF"
      },
      "outputs": [],
      "source": [
        "# import required libraries\n",
        "import torch\n",
        "import torchvision\n",
        "from torchvision import datasets\n",
        "import torchvision.transforms as transforms\n",
        "from torch.utils.data import Dataset, DataLoader, random_split\n",
        "from torch.utils.data.sampler import SubsetRandomSampler\n",
        "\n",
        "import os\n",
        "import numpy as np\n",
        "import random\n",
        "from PIL import Image\n",
        "import matplotlib.pyplot as plt\n",
        "%matplotlib inline"
      ]
    },
    {
      "cell_type": "code",
      "source": [
        "# check if cuda is available\n",
        "train_on_gpu = torch.cuda.is_available()\n",
        "\n",
        "if not train_on_gpu:\n",
        "  print(\"CUDA is not available\")\n",
        "else:\n",
        "  print(\"CUDA is available\")\n",
        "\n",
        "device = torch.device('cuda') if train_on_gpu else torch.device('cpu')"
      ],
      "metadata": {
        "id": "VAVJpqS7PBo3"
      },
      "execution_count": null,
      "outputs": []
    },
    {
      "cell_type": "code",
      "source": [
        "train_data = datasets.Omniglot(root=\"./data\", download=True, transform=None)\n",
        "test_data = datasets.Omniglot(root=\"./data\", background = False, download=True, transform=None)"
      ],
      "metadata": {
        "id": "4X9rnZcuPLTM"
      },
      "execution_count": null,
      "outputs": []
    },
    {
      "cell_type": "code",
      "source": [
        "root_dir = '/content/data/omniglot-py/images_evaluation/'\n",
        "categories = [[folder, os.listdir(root_dir + folder)] for folder in os.listdir(root_dir)  if not folder.startswith('.') ]"
      ],
      "metadata": {
        "id": "wyukncVCeK1d"
      },
      "execution_count": null,
      "outputs": []
    },
    {
      "cell_type": "code",
      "source": [
        "print(categories)"
      ],
      "metadata": {
        "id": "ZwpoIrj8kf6d"
      },
      "execution_count": null,
      "outputs": []
    },
    {
      "cell_type": "code",
      "source": [
        ""
      ],
      "metadata": {
        "id": "NJ_bG6zLk3a-"
      },
      "execution_count": null,
      "outputs": []
    },
    {
      "cell_type": "code",
      "source": [
        "random.choice(categories[1])"
      ],
      "metadata": {
        "id": "ySn2tpf7k3gY"
      },
      "execution_count": null,
      "outputs": []
    },
    {
      "cell_type": "code",
      "source": [
        "def OmniglotDataset(Dataset):\n",
        "  def __init__(self, catagories, root_dir, data_size, transform=None):\n",
        "    self.catagories = catagories\n",
        "    self.root_dir = root_dir \n",
        "    self.transform = transform\n",
        "    self.data_size = data_size \n",
        "\n",
        "  def __len__(self):\n",
        "    return self.data_size \n",
        "\n",
        "  def __getitem__(self, idx):\n",
        "    img1, img2, label = None, None, None\n",
        "    if idx%2==0:\n",
        "      category = random.choice(categories)\n",
        "      character = random.choice(category[1])\n",
        "      img_dir = root_dir + category[0] + \"/\" + character\n",
        "      img1_name = random.choice(os.listdir(img_dir))\n",
        "      img2_name = random.choice(os.listdir(img_dir))\n",
        "      img1 = Image.open(img_dir + \"/\" + img1_name)\n",
        "      img2 = Image.open(img_dir + \"/\" + img2_name)\n",
        "      label = 1\n",
        "    else:\n",
        "      category1 = random.choice(categories)\n",
        "      category2 = random.choice(categories)\n",
        "      character1 = random.choice(category1[1])\n",
        "      character2 = random.choice(category2[1])\n",
        "      img_dir1 = root_dir + category1[0] + \"/\" + character1\n",
        "      img_dir2 = root_dir + category2[0] + \"/\" + character2 \n",
        "      img1_name = random.choice(os.listdir(img_dir1))\n",
        "      img2_name = random.choice(os.listdir(img_dir2))"
      ],
      "metadata": {
        "id": "H1Sf4K6rg1nM"
      },
      "execution_count": null,
      "outputs": []
    },
    {
      "cell_type": "code",
      "source": [
        ""
      ],
      "metadata": {
        "id": "PAOaXSQCg1qa"
      },
      "execution_count": null,
      "outputs": []
    },
    {
      "cell_type": "code",
      "source": [
        ""
      ],
      "metadata": {
        "id": "wi0C7jJjg1tm"
      },
      "execution_count": null,
      "outputs": []
    }
  ]
}