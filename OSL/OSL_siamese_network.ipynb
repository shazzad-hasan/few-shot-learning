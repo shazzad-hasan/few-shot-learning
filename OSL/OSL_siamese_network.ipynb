{
  "nbformat": 4,
  "nbformat_minor": 0,
  "metadata": {
    "colab": {
      "name": "OSL_siamese_network.ipynb",
      "provenance": [],
      "machine_shape": "hm",
      "include_colab_link": true
    },
    "kernelspec": {
      "name": "python3",
      "display_name": "Python 3"
    },
    "language_info": {
      "name": "python"
    },
    "accelerator": "GPU",
    "gpuClass": "standard"
  },
  "cells": [
    {
      "cell_type": "markdown",
      "metadata": {
        "id": "view-in-github",
        "colab_type": "text"
      },
      "source": [
        "<a href=\"https://colab.research.google.com/github/shazzad-hasan/few-shot-learning/blob/main/OSL/OSL_siamese_network.ipynb\" target=\"_parent\"><img src=\"https://colab.research.google.com/assets/colab-badge.svg\" alt=\"Open In Colab\"/></a>"
      ]
    },
    {
      "cell_type": "code",
      "execution_count": null,
      "metadata": {
        "id": "fK1maxkjE9MF"
      },
      "outputs": [],
      "source": [
        "# import required libraries\n",
        "import torch\n",
        "import torchvision\n",
        "from torchvision import datasets\n",
        "import torchvision.transforms as transforms\n",
        "from torch.utils.data import Dataset, DataLoader, random_split\n",
        "from torch.utils.data.sampler import SubsetRandomSampler\n",
        "\n",
        "import os\n",
        "import numpy as np\n",
        "import random\n",
        "from PIL import Image\n",
        "import matplotlib.pyplot as plt\n",
        "%matplotlib inline"
      ]
    },
    {
      "cell_type": "code",
      "source": [
        "# check if cuda is available\n",
        "train_on_gpu = torch.cuda.is_available()\n",
        "\n",
        "if not train_on_gpu:\n",
        "  print(\"CUDA is not available\")\n",
        "else:\n",
        "  print(\"CUDA is available\")\n",
        "\n",
        "device = torch.device('cuda') if train_on_gpu else torch.device('cpu')"
      ],
      "metadata": {
        "id": "VAVJpqS7PBo3"
      },
      "execution_count": null,
      "outputs": []
    },
    {
      "cell_type": "code",
      "source": [
        "train_data = datasets.Omniglot(root=\"./data\", download=True, transform=None)\n",
        "test_data = datasets.Omniglot(root=\"./data\", background = False, download=True, transform=None)"
      ],
      "metadata": {
        "id": "4X9rnZcuPLTM"
      },
      "execution_count": null,
      "outputs": []
    },
    {
      "cell_type": "code",
      "source": [
        "root_dir = '/content/data/omniglot-py/images_evaluation/'\n",
        "categories = [[folder, os.listdir(root_dir + folder)] for folder in os.listdir(root_dir)  if not folder.startswith('.') ]"
      ],
      "metadata": {
        "id": "wyukncVCeK1d"
      },
      "execution_count": null,
      "outputs": []
    },
    {
      "cell_type": "code",
      "source": [
        "class OmniglotDataset(Dataset):\n",
        "  def __init__(self, categories, root_dir, data_size, transform=None):\n",
        "    self.catagories = categories\n",
        "    self.root_dir = root_dir \n",
        "    self.transform = transform\n",
        "    self.data_size = data_size \n",
        "\n",
        "  def __len__(self):\n",
        "    return self.data_size \n",
        "\n",
        "  def __getitem__(self, idx):\n",
        "    img1, img2, label = None, None, None\n",
        "\n",
        "    if idx%2==0:\n",
        "      category = random.choice(categories)\n",
        "      character = random.choice(category[1])\n",
        "      img_dir = root_dir + category[0] + \"/\" + character\n",
        "      img1_name = random.choice(os.listdir(img_dir))\n",
        "      img2_name = random.choice(os.listdir(img_dir))\n",
        "      img1 = Image.open(img_dir + \"/\" + img1_name)\n",
        "      img2 = Image.open(img_dir + \"/\" + img2_name)\n",
        "      label = 1.0\n",
        "\n",
        "    else:\n",
        "      category1 = random.choice(categories)\n",
        "      category2 = random.choice(categories)\n",
        "      character1 = random.choice(category1[1])\n",
        "      character2 = random.choice(category2[1])\n",
        "      img_dir1 = root_dir + category1[0] + \"/\" + character1\n",
        "      img_dir2 = root_dir + category2[0] + \"/\" + character2 \n",
        "      img1_name = random.choice(os.listdir(img_dir1))\n",
        "      img2_name = random.choice(os.listdir(img_dir2))\n",
        "\n",
        "      while img1_name == img2_name:\n",
        "        img2_name = random.choice(os.listdir(img_dir2))\n",
        "      label = 0.0\n",
        "      img1 = Image.open(img_dir1 + \"/\" + img1_name)\n",
        "      img2 = Image.open(img_dir2 + \"/\" + img2_name)\n",
        "\n",
        "    if self.transform:\n",
        "      img1 = self.transform(img1)\n",
        "      img2 = self.transform(img2)\n",
        "    label = np.array([label], dtype=np.float32)\n",
        "\n",
        "    return img1, img2, label"
      ],
      "metadata": {
        "id": "H1Sf4K6rg1nM"
      },
      "execution_count": null,
      "outputs": []
    },
    {
      "cell_type": "code",
      "source": [
        "data_size = 10000\n",
        "# choose percentage of training data for validation\n",
        "valid_pct = 0.2\n",
        "train_size = int(valid_pct * data_size)\n",
        "valid_size = data_size - train_size\n",
        "\n",
        "transform = transforms.Compose(\n",
        "    [transforms.ToTensor()])\n",
        "\n",
        "omniglot_data = OmniglotDataset(categories, root_dir, data_size, transform)\n",
        "train_data, valid_data = random_split(omniglot_data, [train_size, valid_size])\n",
        "\n",
        "## define dataloader parameters\n",
        "# number of subprocesses to use for data loading\n",
        "num_workers = 0\n",
        "# how many samples per batch to load\n",
        "batch_size = 128\n",
        "train_loader = DataLoader(train_data, batch_size=batch_size, num_workers=num_workers)\n",
        "valid_loader = DataLoader(valid_data, batch_size=batch_size, num_workers=num_workers)"
      ],
      "metadata": {
        "id": "oNC3X5f9Ttiw"
      },
      "execution_count": null,
      "outputs": []
    },
    {
      "cell_type": "code",
      "source": [
        "for img1, img2, label in train_loader:\n",
        "  if label[0] == 1.0:\n",
        "    plt.subplot(1,2,1)\n",
        "    plt.imshow(img1[0][0])\n",
        "    plt.subplot(1,2,2)\n",
        "    plt.imshow(img2[0][0])\n",
        "    break"
      ],
      "metadata": {
        "id": "kpZPKZqN66za"
      },
      "execution_count": null,
      "outputs": []
    },
    {
      "cell_type": "code",
      "source": [
        ""
      ],
      "metadata": {
        "id": "nlc4EDqI663j"
      },
      "execution_count": null,
      "outputs": []
    },
    {
      "cell_type": "code",
      "source": [
        "class nWayOneShotValidSet(Dataset):\n",
        "  def __init__(self, categories, root_dir, data_size, n_way, transform=None):\n",
        "    self.categories = categories\n",
        "    self.root_dir = root_dir\n",
        "    self.data_size = data_size \n",
        "    self.n_way = n_way \n",
        "    self.transform = transform \n",
        "  \n",
        "  def __len__(self):\n",
        "    return self.data_size \n",
        "\n",
        "  def __getitem__(self, idx):\n",
        "    category = random.choice(categories)\n",
        "    character = random.choice(category[1])\n",
        "    img_dir = root_dir + category[0] + \"/\" + character\n",
        "    img_name = random.choice(os.listdir(img_dir)) \n",
        "    main_img = Image.open(img_dir + \"/\" + img_name)\n",
        "    if self.transform:\n",
        "      main_img = self.transform(main_img)\n",
        "\n",
        "    test_set = []\n",
        "    label = np.random.randint(self.nWay)\n",
        "    for i in range(self.n_way):\n",
        "      test_img_dir = img_dir \n",
        "      test_img_name = \"\"\n",
        "      # find a random image from the from the same set as the main\n",
        "      if i == label:\n",
        "        test_img_name = random.choice(os.listdir(img_dir))\n",
        "      else:\n",
        "        test_category = random.choice(categories)\n",
        "        test_character = random.choice(test_category[1])\n",
        "        test_img_dir = root_dir + test_category[0] + \"/\" + test_character \n",
        "        while test_img_dir == img_dir:\n",
        "          test_img_dir = root_dir + test_category[0] + \"/\" + test_character \n",
        "      test_img_name = random.choice(os.listdir(test_img_dir))\n",
        "      if self.transform:\n",
        "        test_img = self.transform(test_img)\n",
        "      test_set.append(test_img)\n",
        "\n",
        "    label = torch.from_numpy(np.array([label], dtype=int))\n",
        "    return main_img, test_set, label"
      ],
      "metadata": {
        "id": "wi0C7jJjg1tm"
      },
      "execution_count": null,
      "outputs": []
    },
    {
      "cell_type": "code",
      "source": [
        "test_size = 5000\n",
        "n_way = 20\n",
        "batch_size = 1\n",
        "num_workers = 0\n",
        "\n",
        "test_data = nWayOneShotValidSet(categories, root_dir, test_size, n_way, transform)\n",
        "test_loader = DataLoader(test_data, batch_size=batch_size, num_workers=num_workers)"
      ],
      "metadata": {
        "id": "F4cI2Y2NTtl5"
      },
      "execution_count": null,
      "outputs": []
    },
    {
      "cell_type": "code",
      "source": [
        "import torch.nn as nn\n",
        "import torch.nn.functional as F\n",
        "\n",
        "class SiameseNetwork(nn.Module):\n",
        "  def __init__(self):\n",
        "    super(SiameseNetwork, self).__init__()\n",
        "    \n",
        "    # Conv2d(in_channels, out_channels, kernel_size)\n",
        "    self.conv1 = nn.Conv2d(1, 64, 10)\n",
        "    self.conv2 = nn.Conv2d(64, 128, 7)\n",
        "    self.conv3 = nn.Conv2d(128, 128, 4)\n",
        "    self.conv4 = nn.Conv2d(128, 256, 4)\n",
        "\n",
        "    self.bn1 = nn.BatchNorm2d(64)\n",
        "    self.bn2 = nn.BatchNorm2d(128)\n",
        "    self.bn3 = nn.BatchNorm2d(128)\n",
        "    self.bn4 = nn.BatchNorm2d(256)\n",
        "\n",
        "    self.dropout1 = nn.Dropout(0.1)\n",
        "    self.dropout2 = nn.Dropout(0.5)\n",
        "\n",
        "    self.fc1 = nn.Linear(256*6*6, 4096)\n",
        "    self.fc2 = nn.Linear(4093, 1)\n",
        "\n",
        "  def convolution(self, x):\n",
        "    x = F.relu(self.bn1(self.conv1(x)))\n",
        "    x = F.max_pool2d(x, (2,2))\n",
        "    x = F.relu(self.bn2(self.conv2(x)))\n",
        "    x = F.max_pool2d(x, (2,2))\n",
        "    x = F.relu(self.bn3(self.conv3(x)))\n",
        "    x = F.max_pool2d(x, (2,2))\n",
        "    x = F.relu(self.bn4(self.conv4(x)))\n",
        "\n",
        "    return x\n",
        "\n",
        "  def forward(self, x1, x2):\n",
        "    x1 = self.convolution(x1)\n",
        "    x2 = self.convolution(x2)\n",
        "\n",
        "    # flatten input image\n",
        "    x1 = x1.view(-1, 256*6*6)\n",
        "    x2 = x2.view(-1, 256*6*6)\n",
        "\n",
        "    x1 = torch.sigmoid(self.fc1(x1))\n",
        "    x2 = torch.sigmoid(self.fc2(x2))\n",
        "\n",
        "    x = torch.abs(x1 - x2)\n",
        "    x = self.fc2(x)\n",
        "\n",
        "    return x\n",
        "\n",
        "model = SiameseNetwork()\n",
        "model.to(device)\n",
        "print(model)"
      ],
      "metadata": {
        "id": "KtD05PstTto4"
      },
      "execution_count": null,
      "outputs": []
    },
    {
      "cell_type": "code",
      "source": [
        "import torch.optim as optim\n",
        "\n",
        "# specify a loss function\n",
        "criterion = nn.CrossEntropyLoss() # categorical cross-entropy\n",
        "\n",
        "# specify optimizer\n",
        "params = model.parameters()\n",
        "optimizer = optim.Adam(params, lr=0.001)"
      ],
      "metadata": {
        "id": "s1jtYswq1FIh"
      },
      "execution_count": null,
      "outputs": []
    },
    {
      "cell_type": "code",
      "source": [
        "def train(model, train_loader, valid_loader, num_epochs, criterion):\n",
        "  min_valid_loss = np.inf\n",
        "  train_losses = []\n",
        "  valid_losses = []\n",
        "  for epoch in range(num_epochs):\n",
        "    running_train_loss = 0.0\n",
        "    model.train()\n",
        "    for img1, img2, targets in train_loader:\n",
        "      img1, img2, targets = img1.to(device), img2.to(device), targets.to(device)\n",
        "      outputs = model(img1, img2)\n",
        "      loss = criterion(outputs, targets)\n",
        "      optimizer.zero_grad()\n",
        "      loss.backward()\n",
        "      running_train_loss += loss.item()\n",
        "\n",
        "    running_train_loss /= len(train_loader)\n",
        "    train_losses.append(running_train_loss)\n",
        "\n",
        "    running_valid_loss = 0.0\n",
        "    with torch.no_grad():\n",
        "      model.eval()\n",
        "      for img1, img2, targets in valid_loader:\n",
        "        img1, img2, targets = img1.to(device), img2.to(device), targets.to(device)\n",
        "        outputs = model(img1, img2)\n",
        "        loss = criterion(outputs, targets)\n",
        "        running_valid_loss += loss.item()\n",
        "    running_valid_loss /= len(valid_loader)\n",
        "    valid_losses.append(running_valid_loss)\n",
        "\n",
        "    print(\"Epochs: {} \\tTraining loss: {:.6f} \\tValidation loss: {:.6f}\".format(epoch+1, running_train_loss, running_valid_loss))\n",
        "\n",
        "    if running_valid_loss <= min_valid_loss:\n",
        "      print(\"Validation loss decreased ({:.6f} --> {:.6f}). Saving model ... \".format(\n",
        "          min_valid_loss, running_valid_loss\n",
        "      ))\n",
        "      torch.save(model.state_dict(), 'model.pt')\n",
        "      min_valid_loss = running_valid_loss\n",
        "\n",
        "  print(\"Finished training!\")"
      ],
      "metadata": {
        "id": "kSj7sAXqhpYy"
      },
      "execution_count": null,
      "outputs": []
    },
    {
      "cell_type": "code",
      "source": [
        "num_epochs = 10\n",
        "train_losses, valid_losses = train(model, train_loader, valid_loader, num_epochs, criterion)"
      ],
      "metadata": {
        "id": "Al5Gxweshpb-"
      },
      "execution_count": null,
      "outputs": []
    },
    {
      "cell_type": "code",
      "source": [
        ""
      ],
      "metadata": {
        "id": "FGeWCPnrhpe2"
      },
      "execution_count": null,
      "outputs": []
    },
    {
      "cell_type": "code",
      "source": [
        ""
      ],
      "metadata": {
        "id": "haXaHpq9hphq"
      },
      "execution_count": null,
      "outputs": []
    },
    {
      "cell_type": "code",
      "source": [
        ""
      ],
      "metadata": {
        "id": "TO2zZmwyhpkn"
      },
      "execution_count": null,
      "outputs": []
    },
    {
      "cell_type": "code",
      "source": [
        ""
      ],
      "metadata": {
        "id": "YuSnwYSHhpnf"
      },
      "execution_count": null,
      "outputs": []
    }
  ]
}