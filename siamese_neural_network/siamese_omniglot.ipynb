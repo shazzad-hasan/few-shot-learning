{
  "nbformat": 4,
  "nbformat_minor": 0,
  "metadata": {
    "colab": {
      "name": "OSL_siamese_network.ipynb",
      "provenance": [],
      "machine_shape": "hm",
      "include_colab_link": true
    },
    "kernelspec": {
      "name": "python3",
      "display_name": "Python 3"
    },
    "language_info": {
      "name": "python"
    },
    "accelerator": "GPU",
    "gpuClass": "standard"
  },
  "cells": [
    {
      "cell_type": "markdown",
      "metadata": {
        "id": "view-in-github",
        "colab_type": "text"
      },
      "source": [
        "<a href=\"https://colab.research.google.com/github/shazzad-hasan/few-shot-learning/blob/main/siamese_neural_network/siamese_omniglot.ipynb\" target=\"_parent\"><img src=\"https://colab.research.google.com/assets/colab-badge.svg\" alt=\"Open In Colab\"/></a>"
      ]
    },
    {
      "cell_type": "code",
      "execution_count": 1,
      "metadata": {
        "id": "fK1maxkjE9MF",
        "outputId": "a6876b86-ac90-4219-df26-aeab9861db3e",
        "colab": {
          "base_uri": "https://localhost:8080/"
        }
      },
      "outputs": [
        {
          "output_type": "stream",
          "name": "stdout",
          "text": [
            "Cloning into 'few-shot-learning'...\n",
            "remote: Enumerating objects: 52, done.\u001b[K\n",
            "remote: Counting objects: 100% (52/52), done.\u001b[K\n",
            "remote: Compressing objects: 100% (47/47), done.\u001b[K\n",
            "remote: Total 52 (delta 6), reused 16 (delta 0), pack-reused 0\u001b[K\n",
            "Unpacking objects: 100% (52/52), done.\n"
          ]
        }
      ],
      "source": [
        "!git clone https://github.com/shazzad-hasan/few-shot-learning.git"
      ]
    },
    {
      "cell_type": "code",
      "source": [
        "from google.colab import drive\n",
        "drive.mount(\"/content/drive\")"
      ],
      "metadata": {
        "id": "MpZYTPRD0wTd",
        "outputId": "3bf0adf0-a87d-4e28-ecdb-008381c5372d",
        "colab": {
          "base_uri": "https://localhost:8080/"
        }
      },
      "execution_count": 2,
      "outputs": [
        {
          "output_type": "stream",
          "name": "stdout",
          "text": [
            "Mounted at /content/drive\n"
          ]
        }
      ]
    },
    {
      "cell_type": "code",
      "source": [
        "!ls"
      ],
      "metadata": {
        "id": "mr7EhMfszCpt",
        "outputId": "db976132-6e1e-4600-ca0f-d9ceec25c7e1",
        "colab": {
          "base_uri": "https://localhost:8080/"
        }
      },
      "execution_count": 3,
      "outputs": [
        {
          "output_type": "stream",
          "name": "stdout",
          "text": [
            "drive  few-shot-learning  sample_data\n"
          ]
        }
      ]
    },
    {
      "cell_type": "code",
      "source": [
        "%cd /content/few-shot-learning/siamese_neural_network"
      ],
      "metadata": {
        "id": "_83nc-r3t0z9",
        "outputId": "648aceb2-c47f-4b19-eb36-8a8222ac9c24",
        "colab": {
          "base_uri": "https://localhost:8080/"
        }
      },
      "execution_count": 4,
      "outputs": [
        {
          "output_type": "stream",
          "name": "stdout",
          "text": [
            "/content/few-shot-learning/siamese_neural_network\n"
          ]
        }
      ]
    },
    {
      "cell_type": "code",
      "source": [
        "!ls"
      ],
      "metadata": {
        "id": "8ssFkERczJ8l",
        "outputId": "f6916cae-9a7f-48d9-8fde-0ddbc8f7e637",
        "colab": {
          "base_uri": "https://localhost:8080/"
        }
      },
      "execution_count": 5,
      "outputs": [
        {
          "output_type": "stream",
          "name": "stdout",
          "text": [
            "helper_dataset.py  helper_evaluate.py  helper_train.py\tsiamese_omniglot.ipynb\n"
          ]
        }
      ]
    },
    {
      "cell_type": "code",
      "source": [
        "# import required libraries\n",
        "import torch\n",
        "import torchvision \n",
        "\n",
        "import numpy as np\n",
        "import matplotlib.pyplot as plt"
      ],
      "metadata": {
        "id": "MvJ_xjjst03M"
      },
      "execution_count": 6,
      "outputs": []
    },
    {
      "cell_type": "code",
      "source": [
        "# import local helper functions\n",
        "from helper_dataset import dataloader_omniglot\n",
        "from helper_train import train\n",
        "from helper_evaluate import test"
      ],
      "metadata": {
        "id": "oL4HxU-NuF_m",
        "outputId": "d23fb893-20ce-4119-c8cc-887c747e2123",
        "colab": {
          "base_uri": "https://localhost:8080/",
          "height": 130
        }
      },
      "execution_count": 7,
      "outputs": [
        {
          "output_type": "error",
          "ename": "SyntaxError",
          "evalue": "ignored",
          "traceback": [
            "\u001b[0;36m  File \u001b[0;32m\"/content/few-shot-learning/siamese_neural_network/helper_dataset.py\"\u001b[0;36m, line \u001b[0;32m61\u001b[0m\n\u001b[0;31m    return img1, img2, label\u001b[0m\n\u001b[0m    ^\u001b[0m\n\u001b[0;31mSyntaxError\u001b[0m\u001b[0;31m:\u001b[0m 'return' outside function\n"
          ]
        }
      ]
    },
    {
      "cell_type": "code",
      "source": [
        "# check if cuda is available\n",
        "train_on_gpu = torch.cuda.is_available()\n",
        "\n",
        "if train_on_gpu:\n",
        "  print(\"CUDA is available!\")\n",
        "else:\n",
        "  print(\"CUDA is not available\")\n",
        "\n",
        "device = torch.device('cuda') if train_on_gpu else torch.device('cpu')"
      ],
      "metadata": {
        "id": "08LobaWvuGGM"
      },
      "execution_count": null,
      "outputs": []
    },
    {
      "cell_type": "code",
      "source": [
        "train_loader, valid_loader, test_loader = dataloader_omniglot(train_size, valid_pct,\n",
        "    test_size, batch_size, n_way, num_workers, valid_size)"
      ],
      "metadata": {
        "id": "s5f1rBrguGMX"
      },
      "execution_count": null,
      "outputs": []
    },
    {
      "cell_type": "code",
      "source": [
        "for img1, img2, label in train_loader:\n",
        "  if label[0] == 1.0:\n",
        "    plt.subplot(1,2,1)\n",
        "    plt.imshow(img1[0][0])\n",
        "    plt.subplot(1,2,2)\n",
        "    plt.imshow(img2[0][0])\n",
        "    break"
      ],
      "metadata": {
        "id": "rsz6O2fat06O"
      },
      "execution_count": null,
      "outputs": []
    },
    {
      "cell_type": "code",
      "source": [
        "# print out some data stats\n",
        "print(\"Number of training images: \", len(train_data))\n",
        "print(\"Number of validation images: \", len(valid_data))\n",
        "print(\"Number of test images: \", len(test_data))\n",
        "\n",
        "for img, _, _ in train_loader:\n",
        "  print(\"Image batch dimension: \", img.shape)\n",
        "  break"
      ],
      "metadata": {
        "id": "mvBZQLOyt09O"
      },
      "execution_count": null,
      "outputs": []
    },
    {
      "cell_type": "code",
      "source": [
        "import torch.nn as nn\n",
        "import torch.nn.functional as F\n",
        "\n",
        "class SiameseNetwork(nn.Module):\n",
        "  def __init__(self):\n",
        "    super(SiameseNetwork, self).__init__()\n",
        "    \n",
        "    # Conv2d(in_channels, out_channels, kernel_size)\n",
        "    self.conv1 = nn.Conv2d(1, 64, 10)\n",
        "    self.conv2 = nn.Conv2d(64, 128, 7)\n",
        "    self.conv3 = nn.Conv2d(128, 128, 4)\n",
        "    self.conv4 = nn.Conv2d(128, 256, 4)\n",
        "\n",
        "    self.bn1 = nn.BatchNorm2d(64)\n",
        "    self.bn2 = nn.BatchNorm2d(128)\n",
        "    self.bn3 = nn.BatchNorm2d(128)\n",
        "    self.bn4 = nn.BatchNorm2d(256)\n",
        "\n",
        "    self.dropout1 = nn.Dropout(0.1)\n",
        "    self.dropout2 = nn.Dropout(0.5)\n",
        "\n",
        "    self.fc1 = nn.Linear(256*6*6, 4096)\n",
        "    self.fc2 = nn.Linear(4096, 1)\n",
        "\n",
        "  def convolution(self, x):\n",
        "    x = F.relu(self.bn1(self.conv1(x)))\n",
        "    x = F.max_pool2d(x, (2,2))\n",
        "    x = F.relu(self.bn2(self.conv2(x)))\n",
        "    x = F.max_pool2d(x, (2,2))\n",
        "    x = F.relu(self.bn3(self.conv3(x)))\n",
        "    x = F.max_pool2d(x, (2,2))\n",
        "    x = F.relu(self.bn4(self.conv4(x)))\n",
        "\n",
        "    return x\n",
        "\n",
        "  def forward(self, x1, x2):\n",
        "    x1 = self.convolution(x1)\n",
        "    x2 = self.convolution(x2)\n",
        "\n",
        "    # flatten input image\n",
        "    x1 = x1.view(-1, 256*6*6)\n",
        "    x2 = x2.view(-1, 256*6*6)\n",
        "\n",
        "    x1 = torch.sigmoid(self.fc1(x1))\n",
        "    x2 = torch.sigmoid(self.fc1(x2))\n",
        "\n",
        "    x = torch.abs(x1 - x2)\n",
        "    x = self.fc2(x)\n",
        "\n",
        "    return x\n",
        "\n",
        "model = SiameseNetwork()\n",
        "model.to(device)\n",
        "print(model)"
      ],
      "metadata": {
        "id": "zbX9MPrxxGwv"
      },
      "execution_count": null,
      "outputs": []
    },
    {
      "cell_type": "code",
      "source": [
        "import torch.optim as optim\n",
        "\n",
        "# specify a loss function\n",
        "criterion = nn.BCEWithLogitsLoss() # categorical cross-entropy\n",
        "\n",
        "# specify optimizer\n",
        "params = model.parameters()\n",
        "optimizer = optim.Adam(params, lr=0.001)"
      ],
      "metadata": {
        "id": "IYXbcCNJxGz2"
      },
      "execution_count": null,
      "outputs": []
    },
    {
      "cell_type": "code",
      "source": [
        "train_losses, valid_losses = train(model, train_loader, valid_loader, num_epochs, criterion, optimizer, device)"
      ],
      "metadata": {
        "id": "sSomKSbfxG2y"
      },
      "execution_count": null,
      "outputs": []
    },
    {
      "cell_type": "code",
      "source": [
        ""
      ],
      "metadata": {
        "id": "X3Mv5EkmxG8K"
      },
      "execution_count": null,
      "outputs": []
    },
    {
      "cell_type": "code",
      "source": [
        ""
      ],
      "metadata": {
        "id": "oVmELB7jxG_J"
      },
      "execution_count": null,
      "outputs": []
    }
  ]
}