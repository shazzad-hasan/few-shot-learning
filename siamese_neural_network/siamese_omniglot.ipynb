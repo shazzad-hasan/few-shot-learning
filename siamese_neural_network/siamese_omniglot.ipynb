{
  "nbformat": 4,
  "nbformat_minor": 0,
  "metadata": {
    "colab": {
      "name": "OSL_siamese_network.ipynb",
      "provenance": [],
      "machine_shape": "hm",
      "include_colab_link": true
    },
    "kernelspec": {
      "name": "python3",
      "display_name": "Python 3"
    },
    "language_info": {
      "name": "python"
    },
    "accelerator": "GPU",
    "gpuClass": "standard"
  },
  "cells": [
    {
      "cell_type": "markdown",
      "metadata": {
        "id": "view-in-github",
        "colab_type": "text"
      },
      "source": [
        "<a href=\"https://colab.research.google.com/github/shazzad-hasan/few-shot-learning/blob/main/siamese_neural_network/siamese_omniglot.ipynb\" target=\"_parent\"><img src=\"https://colab.research.google.com/assets/colab-badge.svg\" alt=\"Open In Colab\"/></a>"
      ]
    },
    {
      "cell_type": "code",
      "execution_count": null,
      "metadata": {
        "id": "fK1maxkjE9MF"
      },
      "outputs": [],
      "source": [
        "!git clone https://github.com/shazzad-hasan/few-shot-learning.git"
      ]
    },
    {
      "cell_type": "code",
      "source": [
        "from google.colab import drive\n",
        "drive.mount(\"/content/drive\")"
      ],
      "metadata": {
        "id": "MpZYTPRD0wTd"
      },
      "execution_count": null,
      "outputs": []
    },
    {
      "cell_type": "code",
      "source": [
        "%cd /content/few-shot-learning/siamese_neural_network"
      ],
      "metadata": {
        "id": "_83nc-r3t0z9"
      },
      "execution_count": null,
      "outputs": []
    },
    {
      "cell_type": "code",
      "source": [
        "!ls"
      ],
      "metadata": {
        "id": "8ssFkERczJ8l"
      },
      "execution_count": null,
      "outputs": []
    },
    {
      "cell_type": "code",
      "source": [
        "# import required libraries\n",
        "import torch\n",
        "import torchvision\n",
        "from torchvision import datasets\n",
        "import torchvision.transforms as transforms\n",
        "from torch.utils.data import Dataset, DataLoader, random_split \n",
        "from torch.utils.data.sampler import SubsetRandomSampler \n",
        "\n",
        "import os\n",
        "import numpy as np\n",
        "import random\n",
        "from PIL import Image\n",
        "import matplotlib.pyplot as plt\n",
        "%matplotlib inline"
      ],
      "metadata": {
        "id": "MvJ_xjjst03M"
      },
      "execution_count": null,
      "outputs": []
    },
    {
      "cell_type": "code",
      "source": [
        "# import local helper functions\n",
        "from helper_dataset import OmniglotDataset, nWayOneShotValidSet\n",
        "from helper_train import train\n",
        "from helper_evaluate import test"
      ],
      "metadata": {
        "id": "oL4HxU-NuF_m"
      },
      "execution_count": null,
      "outputs": []
    },
    {
      "cell_type": "code",
      "source": [
        "# check if cuda is available\n",
        "train_on_gpu = torch.cuda.is_available()\n",
        "\n",
        "if train_on_gpu:\n",
        "  print(\"CUDA is available!\")\n",
        "else:\n",
        "  print(\"CUDA is not available\")\n",
        "\n",
        "device = torch.device('cuda') if train_on_gpu else torch.device('cpu')"
      ],
      "metadata": {
        "id": "08LobaWvuGGM"
      },
      "execution_count": null,
      "outputs": []
    },
    {
      "cell_type": "code",
      "source": [
        "train_data = datasets.Omniglot(root=\"./data\", download=True, transform=None)\n",
        "test_data = datasets.Omniglot(root=\"./data\", background = False, download=True, transform=None)"
      ],
      "metadata": {
        "id": "WhdFuhjqPWHV"
      },
      "execution_count": null,
      "outputs": []
    },
    {
      "cell_type": "code",
      "source": [
        "root_dir = '/content/few-shot-learning/siamese_neural_network/data/omniglot-py/images_evaluation/'\n",
        "categories = [[folder, os.listdir(root_dir + folder)] for folder in os.listdir(root_dir)  if not folder.startswith('.') ]"
      ],
      "metadata": {
        "id": "ylN9NHx6PWOD"
      },
      "execution_count": null,
      "outputs": []
    },
    {
      "cell_type": "code",
      "source": [
        "data_size = 10000\n",
        "# choose percentage of training data for validation\n",
        "valid_pct = 0.2\n",
        "valid_size = int(valid_pct * data_size)\n",
        "train_size = data_size - valid_size\n",
        "\n",
        "transform = transforms.Compose(\n",
        "    [transforms.ToTensor()])\n",
        "\n",
        "omniglot_data = OmniglotDataset(categories, root_dir, data_size, transform)\n",
        "train_data, valid_data = random_split(omniglot_data, [train_size, valid_size])\n",
        "\n",
        "## define dataloader parameters\n",
        "# number of subprocesses to use for data loading\n",
        "num_workers = 0\n",
        "# how many samples per batch to load\n",
        "batch_size = 128\n",
        "train_loader = DataLoader(train_data, batch_size=batch_size, num_workers=num_workers)\n",
        "valid_loader = DataLoader(valid_data, batch_size=batch_size, num_workers=num_workers)"
      ],
      "metadata": {
        "id": "d2HmaM_LPWS7"
      },
      "execution_count": null,
      "outputs": []
    },
    {
      "cell_type": "code",
      "source": [
        "valid_size"
      ],
      "metadata": {
        "id": "kfmJ63CCcOIH"
      },
      "execution_count": null,
      "outputs": []
    },
    {
      "cell_type": "code",
      "source": [
        "for img1, img2, label in train_loader:\n",
        "  if label[0] == 1.0:\n",
        "    plt.subplot(1,2,1)\n",
        "    plt.imshow(img1[0][0])\n",
        "    plt.subplot(1,2,2)\n",
        "    plt.imshow(img2[0][0])\n",
        "    break"
      ],
      "metadata": {
        "id": "rsz6O2fat06O"
      },
      "execution_count": null,
      "outputs": []
    },
    {
      "cell_type": "code",
      "source": [
        "test_size = 5000\n",
        "n_way = 20\n",
        "batch_size = 1\n",
        "num_workers = 0\n",
        "\n",
        "test_data = nWayOneShotValidSet(categories, root_dir, test_size, n_way, transform)\n",
        "test_loader = DataLoader(test_data, batch_size=batch_size, num_workers=num_workers)"
      ],
      "metadata": {
        "id": "eAqftj1cPkjU"
      },
      "execution_count": null,
      "outputs": []
    },
    {
      "cell_type": "code",
      "source": [
        "# print out some data stats\n",
        "print(\"Number of training images: \", len(train_data))\n",
        "print(\"Number of validation images: \", len(valid_data))\n",
        "print(\"Number of test images: \", len(test_data))\n",
        "\n",
        "for img, _, _ in train_loader:\n",
        "  print(\"Image batch dimension: \", img.shape)\n",
        "  break"
      ],
      "metadata": {
        "id": "mvBZQLOyt09O"
      },
      "execution_count": null,
      "outputs": []
    },
    {
      "cell_type": "code",
      "source": [
        "import torch.nn as nn\n",
        "import torch.nn.functional as F\n",
        "\n",
        "class SiameseNetwork(nn.Module):\n",
        "  def __init__(self):\n",
        "    super(SiameseNetwork, self).__init__()\n",
        "    \n",
        "    # Conv2d(in_channels, out_channels, kernel_size)\n",
        "    self.conv1 = nn.Conv2d(1, 64, 10)\n",
        "    self.conv2 = nn.Conv2d(64, 128, 7)\n",
        "    self.conv3 = nn.Conv2d(128, 128, 4)\n",
        "    self.conv4 = nn.Conv2d(128, 256, 4)\n",
        "\n",
        "    self.bn1 = nn.BatchNorm2d(64)\n",
        "    self.bn2 = nn.BatchNorm2d(128)\n",
        "    self.bn3 = nn.BatchNorm2d(128)\n",
        "    self.bn4 = nn.BatchNorm2d(256)\n",
        "\n",
        "    self.dropout1 = nn.Dropout(0.1)\n",
        "    self.dropout2 = nn.Dropout(0.5)\n",
        "\n",
        "    self.fc1 = nn.Linear(256*6*6, 4096)\n",
        "    self.fc2 = nn.Linear(4096, 1)\n",
        "\n",
        "  def convolution(self, x):\n",
        "    x = F.relu(self.bn1(self.conv1(x)))\n",
        "    x = F.max_pool2d(x, (2,2))\n",
        "    x = F.relu(self.bn2(self.conv2(x)))\n",
        "    x = F.max_pool2d(x, (2,2))\n",
        "    x = F.relu(self.bn3(self.conv3(x)))\n",
        "    x = F.max_pool2d(x, (2,2))\n",
        "    x = F.relu(self.bn4(self.conv4(x)))\n",
        "\n",
        "    return x\n",
        "\n",
        "  def forward(self, x1, x2):\n",
        "    x1 = self.convolution(x1)\n",
        "    x2 = self.convolution(x2)\n",
        "\n",
        "    # flatten input image\n",
        "    x1 = x1.view(-1, 256*6*6)\n",
        "    x2 = x2.view(-1, 256*6*6)\n",
        "\n",
        "    x1 = torch.sigmoid(self.fc1(x1))\n",
        "    x2 = torch.sigmoid(self.fc1(x2))\n",
        "\n",
        "    x = torch.abs(x1 - x2)\n",
        "    x = self.fc2(x)\n",
        "\n",
        "    return x\n",
        "\n",
        "model = SiameseNetwork()\n",
        "model.to(device)\n",
        "print(model)"
      ],
      "metadata": {
        "id": "zbX9MPrxxGwv"
      },
      "execution_count": null,
      "outputs": []
    },
    {
      "cell_type": "code",
      "source": [
        "import torch.optim as optim\n",
        "\n",
        "# specify a loss function\n",
        "criterion = nn.BCEWithLogitsLoss() # categorical cross-entropy\n",
        "\n",
        "# specify optimizer\n",
        "params = model.parameters()\n",
        "optimizer = optim.Adam(params, lr=0.001)"
      ],
      "metadata": {
        "id": "IYXbcCNJxGz2"
      },
      "execution_count": null,
      "outputs": []
    },
    {
      "cell_type": "code",
      "source": [
        "num_epochs = 5\n",
        "train_losses, valid_losses = train(model, train_loader, valid_loader, num_epochs, criterion, optimizer, device)"
      ],
      "metadata": {
        "id": "sSomKSbfxG2y"
      },
      "execution_count": null,
      "outputs": []
    },
    {
      "cell_type": "code",
      "source": [
        "# plot trainining and validation loss for each epoch\n",
        "epochs = range(1, num_epochs+1)\n",
        "plt.plot(epochs, train_losses, 'bo', label=\"Training loss\")\n",
        "plt.plot(epochs, valid_losses, 'b', label=\"Validation loss\")\n",
        "plt.xlabel('epochs')\n",
        "plt.ylabel('loss')\n",
        "plt.title('Training and validation loss')\n",
        "plt.legend(loc='upper right')\n",
        "plt.show()"
      ],
      "metadata": {
        "id": "cMeomez8P80r"
      },
      "execution_count": null,
      "outputs": []
    },
    {
      "cell_type": "code",
      "source": [
        "test(model, test_loader)"
      ],
      "metadata": {
        "id": "X3Mv5EkmxG8K"
      },
      "execution_count": null,
      "outputs": []
    },
    {
      "cell_type": "code",
      "source": [
        ""
      ],
      "metadata": {
        "id": "oVmELB7jxG_J"
      },
      "execution_count": null,
      "outputs": []
    }
  ]
}