{
  "nbformat": 4,
  "nbformat_minor": 0,
  "metadata": {
    "colab": {
      "name": "OSL_siamese_network.ipynb",
      "provenance": [],
      "machine_shape": "hm",
      "include_colab_link": true
    },
    "kernelspec": {
      "name": "python3",
      "display_name": "Python 3"
    },
    "language_info": {
      "name": "python"
    },
    "accelerator": "GPU",
    "gpuClass": "standard",
    "widgets": {
      "application/vnd.jupyter.widget-state+json": {
        "610c39ed070d4f5498f10fa1c4ad3ec6": {
          "model_module": "@jupyter-widgets/controls",
          "model_name": "HBoxModel",
          "model_module_version": "1.5.0",
          "state": {
            "_dom_classes": [],
            "_model_module": "@jupyter-widgets/controls",
            "_model_module_version": "1.5.0",
            "_model_name": "HBoxModel",
            "_view_count": null,
            "_view_module": "@jupyter-widgets/controls",
            "_view_module_version": "1.5.0",
            "_view_name": "HBoxView",
            "box_style": "",
            "children": [
              "IPY_MODEL_c9ac9a9ce3f145b4b7de2422dca90b5f",
              "IPY_MODEL_fbcd5c9add704f19b76209ff504a2232",
              "IPY_MODEL_2f094be69a8b4220b5e372388bdd7fb4"
            ],
            "layout": "IPY_MODEL_f95a5fbb94824853bda3bf279de6c147"
          }
        },
        "c9ac9a9ce3f145b4b7de2422dca90b5f": {
          "model_module": "@jupyter-widgets/controls",
          "model_name": "HTMLModel",
          "model_module_version": "1.5.0",
          "state": {
            "_dom_classes": [],
            "_model_module": "@jupyter-widgets/controls",
            "_model_module_version": "1.5.0",
            "_model_name": "HTMLModel",
            "_view_count": null,
            "_view_module": "@jupyter-widgets/controls",
            "_view_module_version": "1.5.0",
            "_view_name": "HTMLView",
            "description": "",
            "description_tooltip": null,
            "layout": "IPY_MODEL_60d604bcf3584585b4ae2878a8c50626",
            "placeholder": "​",
            "style": "IPY_MODEL_af6a916b977e412ba2f8baaeb490ae29",
            "value": "100%"
          }
        },
        "fbcd5c9add704f19b76209ff504a2232": {
          "model_module": "@jupyter-widgets/controls",
          "model_name": "FloatProgressModel",
          "model_module_version": "1.5.0",
          "state": {
            "_dom_classes": [],
            "_model_module": "@jupyter-widgets/controls",
            "_model_module_version": "1.5.0",
            "_model_name": "FloatProgressModel",
            "_view_count": null,
            "_view_module": "@jupyter-widgets/controls",
            "_view_module_version": "1.5.0",
            "_view_name": "ProgressView",
            "bar_style": "success",
            "description": "",
            "description_tooltip": null,
            "layout": "IPY_MODEL_53d89fe3524847b0b097ac1e2f0b289a",
            "max": 9464212,
            "min": 0,
            "orientation": "horizontal",
            "style": "IPY_MODEL_01ba07b28bf74f0a82ec6409138699a0",
            "value": 9464212
          }
        },
        "2f094be69a8b4220b5e372388bdd7fb4": {
          "model_module": "@jupyter-widgets/controls",
          "model_name": "HTMLModel",
          "model_module_version": "1.5.0",
          "state": {
            "_dom_classes": [],
            "_model_module": "@jupyter-widgets/controls",
            "_model_module_version": "1.5.0",
            "_model_name": "HTMLModel",
            "_view_count": null,
            "_view_module": "@jupyter-widgets/controls",
            "_view_module_version": "1.5.0",
            "_view_name": "HTMLView",
            "description": "",
            "description_tooltip": null,
            "layout": "IPY_MODEL_32ef3cc65082493d9db6b048e08120c7",
            "placeholder": "​",
            "style": "IPY_MODEL_27fb2144dea94add8b2d8a2651fade2a",
            "value": " 9464212/9464212 [00:00&lt;00:00, 6854354.83it/s]"
          }
        },
        "f95a5fbb94824853bda3bf279de6c147": {
          "model_module": "@jupyter-widgets/base",
          "model_name": "LayoutModel",
          "model_module_version": "1.2.0",
          "state": {
            "_model_module": "@jupyter-widgets/base",
            "_model_module_version": "1.2.0",
            "_model_name": "LayoutModel",
            "_view_count": null,
            "_view_module": "@jupyter-widgets/base",
            "_view_module_version": "1.2.0",
            "_view_name": "LayoutView",
            "align_content": null,
            "align_items": null,
            "align_self": null,
            "border": null,
            "bottom": null,
            "display": null,
            "flex": null,
            "flex_flow": null,
            "grid_area": null,
            "grid_auto_columns": null,
            "grid_auto_flow": null,
            "grid_auto_rows": null,
            "grid_column": null,
            "grid_gap": null,
            "grid_row": null,
            "grid_template_areas": null,
            "grid_template_columns": null,
            "grid_template_rows": null,
            "height": null,
            "justify_content": null,
            "justify_items": null,
            "left": null,
            "margin": null,
            "max_height": null,
            "max_width": null,
            "min_height": null,
            "min_width": null,
            "object_fit": null,
            "object_position": null,
            "order": null,
            "overflow": null,
            "overflow_x": null,
            "overflow_y": null,
            "padding": null,
            "right": null,
            "top": null,
            "visibility": null,
            "width": null
          }
        },
        "60d604bcf3584585b4ae2878a8c50626": {
          "model_module": "@jupyter-widgets/base",
          "model_name": "LayoutModel",
          "model_module_version": "1.2.0",
          "state": {
            "_model_module": "@jupyter-widgets/base",
            "_model_module_version": "1.2.0",
            "_model_name": "LayoutModel",
            "_view_count": null,
            "_view_module": "@jupyter-widgets/base",
            "_view_module_version": "1.2.0",
            "_view_name": "LayoutView",
            "align_content": null,
            "align_items": null,
            "align_self": null,
            "border": null,
            "bottom": null,
            "display": null,
            "flex": null,
            "flex_flow": null,
            "grid_area": null,
            "grid_auto_columns": null,
            "grid_auto_flow": null,
            "grid_auto_rows": null,
            "grid_column": null,
            "grid_gap": null,
            "grid_row": null,
            "grid_template_areas": null,
            "grid_template_columns": null,
            "grid_template_rows": null,
            "height": null,
            "justify_content": null,
            "justify_items": null,
            "left": null,
            "margin": null,
            "max_height": null,
            "max_width": null,
            "min_height": null,
            "min_width": null,
            "object_fit": null,
            "object_position": null,
            "order": null,
            "overflow": null,
            "overflow_x": null,
            "overflow_y": null,
            "padding": null,
            "right": null,
            "top": null,
            "visibility": null,
            "width": null
          }
        },
        "af6a916b977e412ba2f8baaeb490ae29": {
          "model_module": "@jupyter-widgets/controls",
          "model_name": "DescriptionStyleModel",
          "model_module_version": "1.5.0",
          "state": {
            "_model_module": "@jupyter-widgets/controls",
            "_model_module_version": "1.5.0",
            "_model_name": "DescriptionStyleModel",
            "_view_count": null,
            "_view_module": "@jupyter-widgets/base",
            "_view_module_version": "1.2.0",
            "_view_name": "StyleView",
            "description_width": ""
          }
        },
        "53d89fe3524847b0b097ac1e2f0b289a": {
          "model_module": "@jupyter-widgets/base",
          "model_name": "LayoutModel",
          "model_module_version": "1.2.0",
          "state": {
            "_model_module": "@jupyter-widgets/base",
            "_model_module_version": "1.2.0",
            "_model_name": "LayoutModel",
            "_view_count": null,
            "_view_module": "@jupyter-widgets/base",
            "_view_module_version": "1.2.0",
            "_view_name": "LayoutView",
            "align_content": null,
            "align_items": null,
            "align_self": null,
            "border": null,
            "bottom": null,
            "display": null,
            "flex": null,
            "flex_flow": null,
            "grid_area": null,
            "grid_auto_columns": null,
            "grid_auto_flow": null,
            "grid_auto_rows": null,
            "grid_column": null,
            "grid_gap": null,
            "grid_row": null,
            "grid_template_areas": null,
            "grid_template_columns": null,
            "grid_template_rows": null,
            "height": null,
            "justify_content": null,
            "justify_items": null,
            "left": null,
            "margin": null,
            "max_height": null,
            "max_width": null,
            "min_height": null,
            "min_width": null,
            "object_fit": null,
            "object_position": null,
            "order": null,
            "overflow": null,
            "overflow_x": null,
            "overflow_y": null,
            "padding": null,
            "right": null,
            "top": null,
            "visibility": null,
            "width": null
          }
        },
        "01ba07b28bf74f0a82ec6409138699a0": {
          "model_module": "@jupyter-widgets/controls",
          "model_name": "ProgressStyleModel",
          "model_module_version": "1.5.0",
          "state": {
            "_model_module": "@jupyter-widgets/controls",
            "_model_module_version": "1.5.0",
            "_model_name": "ProgressStyleModel",
            "_view_count": null,
            "_view_module": "@jupyter-widgets/base",
            "_view_module_version": "1.2.0",
            "_view_name": "StyleView",
            "bar_color": null,
            "description_width": ""
          }
        },
        "32ef3cc65082493d9db6b048e08120c7": {
          "model_module": "@jupyter-widgets/base",
          "model_name": "LayoutModel",
          "model_module_version": "1.2.0",
          "state": {
            "_model_module": "@jupyter-widgets/base",
            "_model_module_version": "1.2.0",
            "_model_name": "LayoutModel",
            "_view_count": null,
            "_view_module": "@jupyter-widgets/base",
            "_view_module_version": "1.2.0",
            "_view_name": "LayoutView",
            "align_content": null,
            "align_items": null,
            "align_self": null,
            "border": null,
            "bottom": null,
            "display": null,
            "flex": null,
            "flex_flow": null,
            "grid_area": null,
            "grid_auto_columns": null,
            "grid_auto_flow": null,
            "grid_auto_rows": null,
            "grid_column": null,
            "grid_gap": null,
            "grid_row": null,
            "grid_template_areas": null,
            "grid_template_columns": null,
            "grid_template_rows": null,
            "height": null,
            "justify_content": null,
            "justify_items": null,
            "left": null,
            "margin": null,
            "max_height": null,
            "max_width": null,
            "min_height": null,
            "min_width": null,
            "object_fit": null,
            "object_position": null,
            "order": null,
            "overflow": null,
            "overflow_x": null,
            "overflow_y": null,
            "padding": null,
            "right": null,
            "top": null,
            "visibility": null,
            "width": null
          }
        },
        "27fb2144dea94add8b2d8a2651fade2a": {
          "model_module": "@jupyter-widgets/controls",
          "model_name": "DescriptionStyleModel",
          "model_module_version": "1.5.0",
          "state": {
            "_model_module": "@jupyter-widgets/controls",
            "_model_module_version": "1.5.0",
            "_model_name": "DescriptionStyleModel",
            "_view_count": null,
            "_view_module": "@jupyter-widgets/base",
            "_view_module_version": "1.2.0",
            "_view_name": "StyleView",
            "description_width": ""
          }
        },
        "4d904272d614493c92cca1017f39ecc3": {
          "model_module": "@jupyter-widgets/controls",
          "model_name": "HBoxModel",
          "model_module_version": "1.5.0",
          "state": {
            "_dom_classes": [],
            "_model_module": "@jupyter-widgets/controls",
            "_model_module_version": "1.5.0",
            "_model_name": "HBoxModel",
            "_view_count": null,
            "_view_module": "@jupyter-widgets/controls",
            "_view_module_version": "1.5.0",
            "_view_name": "HBoxView",
            "box_style": "",
            "children": [
              "IPY_MODEL_fb71702da68d47b2b464a866c10edb7e",
              "IPY_MODEL_fc44f667f9e14b39b59e36c1a1ad7545",
              "IPY_MODEL_668192105684458ab4114437c71db93e"
            ],
            "layout": "IPY_MODEL_ae794b055d314048aa21c841e18c6d91"
          }
        },
        "fb71702da68d47b2b464a866c10edb7e": {
          "model_module": "@jupyter-widgets/controls",
          "model_name": "HTMLModel",
          "model_module_version": "1.5.0",
          "state": {
            "_dom_classes": [],
            "_model_module": "@jupyter-widgets/controls",
            "_model_module_version": "1.5.0",
            "_model_name": "HTMLModel",
            "_view_count": null,
            "_view_module": "@jupyter-widgets/controls",
            "_view_module_version": "1.5.0",
            "_view_name": "HTMLView",
            "description": "",
            "description_tooltip": null,
            "layout": "IPY_MODEL_ca57919f2b2048deb3de5aaeab07bac4",
            "placeholder": "​",
            "style": "IPY_MODEL_f164241cefa243d1927a65030c7e13f9",
            "value": "100%"
          }
        },
        "fc44f667f9e14b39b59e36c1a1ad7545": {
          "model_module": "@jupyter-widgets/controls",
          "model_name": "FloatProgressModel",
          "model_module_version": "1.5.0",
          "state": {
            "_dom_classes": [],
            "_model_module": "@jupyter-widgets/controls",
            "_model_module_version": "1.5.0",
            "_model_name": "FloatProgressModel",
            "_view_count": null,
            "_view_module": "@jupyter-widgets/controls",
            "_view_module_version": "1.5.0",
            "_view_name": "ProgressView",
            "bar_style": "success",
            "description": "",
            "description_tooltip": null,
            "layout": "IPY_MODEL_001ed132193d41fcb965a97a2eeebfde",
            "max": 6462886,
            "min": 0,
            "orientation": "horizontal",
            "style": "IPY_MODEL_39d3adb5d48a46beb98ae08ba70b787f",
            "value": 6462886
          }
        },
        "668192105684458ab4114437c71db93e": {
          "model_module": "@jupyter-widgets/controls",
          "model_name": "HTMLModel",
          "model_module_version": "1.5.0",
          "state": {
            "_dom_classes": [],
            "_model_module": "@jupyter-widgets/controls",
            "_model_module_version": "1.5.0",
            "_model_name": "HTMLModel",
            "_view_count": null,
            "_view_module": "@jupyter-widgets/controls",
            "_view_module_version": "1.5.0",
            "_view_name": "HTMLView",
            "description": "",
            "description_tooltip": null,
            "layout": "IPY_MODEL_ac373d58ba1e400ab2a96fbcf4e93cd4",
            "placeholder": "​",
            "style": "IPY_MODEL_b3ca8be5e62b4c7393729de007786e99",
            "value": " 6462886/6462886 [00:00&lt;00:00, 22582321.39it/s]"
          }
        },
        "ae794b055d314048aa21c841e18c6d91": {
          "model_module": "@jupyter-widgets/base",
          "model_name": "LayoutModel",
          "model_module_version": "1.2.0",
          "state": {
            "_model_module": "@jupyter-widgets/base",
            "_model_module_version": "1.2.0",
            "_model_name": "LayoutModel",
            "_view_count": null,
            "_view_module": "@jupyter-widgets/base",
            "_view_module_version": "1.2.0",
            "_view_name": "LayoutView",
            "align_content": null,
            "align_items": null,
            "align_self": null,
            "border": null,
            "bottom": null,
            "display": null,
            "flex": null,
            "flex_flow": null,
            "grid_area": null,
            "grid_auto_columns": null,
            "grid_auto_flow": null,
            "grid_auto_rows": null,
            "grid_column": null,
            "grid_gap": null,
            "grid_row": null,
            "grid_template_areas": null,
            "grid_template_columns": null,
            "grid_template_rows": null,
            "height": null,
            "justify_content": null,
            "justify_items": null,
            "left": null,
            "margin": null,
            "max_height": null,
            "max_width": null,
            "min_height": null,
            "min_width": null,
            "object_fit": null,
            "object_position": null,
            "order": null,
            "overflow": null,
            "overflow_x": null,
            "overflow_y": null,
            "padding": null,
            "right": null,
            "top": null,
            "visibility": null,
            "width": null
          }
        },
        "ca57919f2b2048deb3de5aaeab07bac4": {
          "model_module": "@jupyter-widgets/base",
          "model_name": "LayoutModel",
          "model_module_version": "1.2.0",
          "state": {
            "_model_module": "@jupyter-widgets/base",
            "_model_module_version": "1.2.0",
            "_model_name": "LayoutModel",
            "_view_count": null,
            "_view_module": "@jupyter-widgets/base",
            "_view_module_version": "1.2.0",
            "_view_name": "LayoutView",
            "align_content": null,
            "align_items": null,
            "align_self": null,
            "border": null,
            "bottom": null,
            "display": null,
            "flex": null,
            "flex_flow": null,
            "grid_area": null,
            "grid_auto_columns": null,
            "grid_auto_flow": null,
            "grid_auto_rows": null,
            "grid_column": null,
            "grid_gap": null,
            "grid_row": null,
            "grid_template_areas": null,
            "grid_template_columns": null,
            "grid_template_rows": null,
            "height": null,
            "justify_content": null,
            "justify_items": null,
            "left": null,
            "margin": null,
            "max_height": null,
            "max_width": null,
            "min_height": null,
            "min_width": null,
            "object_fit": null,
            "object_position": null,
            "order": null,
            "overflow": null,
            "overflow_x": null,
            "overflow_y": null,
            "padding": null,
            "right": null,
            "top": null,
            "visibility": null,
            "width": null
          }
        },
        "f164241cefa243d1927a65030c7e13f9": {
          "model_module": "@jupyter-widgets/controls",
          "model_name": "DescriptionStyleModel",
          "model_module_version": "1.5.0",
          "state": {
            "_model_module": "@jupyter-widgets/controls",
            "_model_module_version": "1.5.0",
            "_model_name": "DescriptionStyleModel",
            "_view_count": null,
            "_view_module": "@jupyter-widgets/base",
            "_view_module_version": "1.2.0",
            "_view_name": "StyleView",
            "description_width": ""
          }
        },
        "001ed132193d41fcb965a97a2eeebfde": {
          "model_module": "@jupyter-widgets/base",
          "model_name": "LayoutModel",
          "model_module_version": "1.2.0",
          "state": {
            "_model_module": "@jupyter-widgets/base",
            "_model_module_version": "1.2.0",
            "_model_name": "LayoutModel",
            "_view_count": null,
            "_view_module": "@jupyter-widgets/base",
            "_view_module_version": "1.2.0",
            "_view_name": "LayoutView",
            "align_content": null,
            "align_items": null,
            "align_self": null,
            "border": null,
            "bottom": null,
            "display": null,
            "flex": null,
            "flex_flow": null,
            "grid_area": null,
            "grid_auto_columns": null,
            "grid_auto_flow": null,
            "grid_auto_rows": null,
            "grid_column": null,
            "grid_gap": null,
            "grid_row": null,
            "grid_template_areas": null,
            "grid_template_columns": null,
            "grid_template_rows": null,
            "height": null,
            "justify_content": null,
            "justify_items": null,
            "left": null,
            "margin": null,
            "max_height": null,
            "max_width": null,
            "min_height": null,
            "min_width": null,
            "object_fit": null,
            "object_position": null,
            "order": null,
            "overflow": null,
            "overflow_x": null,
            "overflow_y": null,
            "padding": null,
            "right": null,
            "top": null,
            "visibility": null,
            "width": null
          }
        },
        "39d3adb5d48a46beb98ae08ba70b787f": {
          "model_module": "@jupyter-widgets/controls",
          "model_name": "ProgressStyleModel",
          "model_module_version": "1.5.0",
          "state": {
            "_model_module": "@jupyter-widgets/controls",
            "_model_module_version": "1.5.0",
            "_model_name": "ProgressStyleModel",
            "_view_count": null,
            "_view_module": "@jupyter-widgets/base",
            "_view_module_version": "1.2.0",
            "_view_name": "StyleView",
            "bar_color": null,
            "description_width": ""
          }
        },
        "ac373d58ba1e400ab2a96fbcf4e93cd4": {
          "model_module": "@jupyter-widgets/base",
          "model_name": "LayoutModel",
          "model_module_version": "1.2.0",
          "state": {
            "_model_module": "@jupyter-widgets/base",
            "_model_module_version": "1.2.0",
            "_model_name": "LayoutModel",
            "_view_count": null,
            "_view_module": "@jupyter-widgets/base",
            "_view_module_version": "1.2.0",
            "_view_name": "LayoutView",
            "align_content": null,
            "align_items": null,
            "align_self": null,
            "border": null,
            "bottom": null,
            "display": null,
            "flex": null,
            "flex_flow": null,
            "grid_area": null,
            "grid_auto_columns": null,
            "grid_auto_flow": null,
            "grid_auto_rows": null,
            "grid_column": null,
            "grid_gap": null,
            "grid_row": null,
            "grid_template_areas": null,
            "grid_template_columns": null,
            "grid_template_rows": null,
            "height": null,
            "justify_content": null,
            "justify_items": null,
            "left": null,
            "margin": null,
            "max_height": null,
            "max_width": null,
            "min_height": null,
            "min_width": null,
            "object_fit": null,
            "object_position": null,
            "order": null,
            "overflow": null,
            "overflow_x": null,
            "overflow_y": null,
            "padding": null,
            "right": null,
            "top": null,
            "visibility": null,
            "width": null
          }
        },
        "b3ca8be5e62b4c7393729de007786e99": {
          "model_module": "@jupyter-widgets/controls",
          "model_name": "DescriptionStyleModel",
          "model_module_version": "1.5.0",
          "state": {
            "_model_module": "@jupyter-widgets/controls",
            "_model_module_version": "1.5.0",
            "_model_name": "DescriptionStyleModel",
            "_view_count": null,
            "_view_module": "@jupyter-widgets/base",
            "_view_module_version": "1.2.0",
            "_view_name": "StyleView",
            "description_width": ""
          }
        }
      }
    }
  },
  "cells": [
    {
      "cell_type": "markdown",
      "metadata": {
        "id": "view-in-github",
        "colab_type": "text"
      },
      "source": [
        "<a href=\"https://colab.research.google.com/github/shazzad-hasan/siamese-neural-networks/blob/main/siamese_omniglot.ipynb\" target=\"_parent\"><img src=\"https://colab.research.google.com/assets/colab-badge.svg\" alt=\"Open In Colab\"/></a>"
      ]
    },
    {
      "cell_type": "code",
      "execution_count": null,
      "metadata": {
        "id": "fK1maxkjE9MF",
        "outputId": "495d5ce5-a394-4215-9f71-f7f34143de7c",
        "colab": {
          "base_uri": "https://localhost:8080/"
        }
      },
      "outputs": [
        {
          "output_type": "stream",
          "name": "stdout",
          "text": [
            "Cloning into 'few-shot-learning'...\n",
            "remote: Enumerating objects: 136, done.\u001b[K\n",
            "remote: Counting objects: 100% (136/136), done.\u001b[K\n",
            "remote: Compressing objects: 100% (112/112), done.\u001b[K\n",
            "remote: Total 136 (delta 45), reused 60 (delta 19), pack-reused 0\u001b[K\n",
            "Receiving objects: 100% (136/136), 47.63 KiB | 11.91 MiB/s, done.\n",
            "Resolving deltas: 100% (45/45), done.\n"
          ]
        }
      ],
      "source": [
        "!git clone https://github.com/shazzad-hasan/few-shot-learning.git"
      ]
    },
    {
      "cell_type": "code",
      "source": [
        "from google.colab import drive\n",
        "drive.mount(\"/content/drive\")"
      ],
      "metadata": {
        "id": "MpZYTPRD0wTd",
        "outputId": "3777f87b-ef74-4c2b-e38e-4a8991a75d89",
        "colab": {
          "base_uri": "https://localhost:8080/"
        }
      },
      "execution_count": null,
      "outputs": [
        {
          "output_type": "stream",
          "name": "stdout",
          "text": [
            "Mounted at /content/drive\n"
          ]
        }
      ]
    },
    {
      "cell_type": "code",
      "source": [
        "%cd /content/few-shot-learning/siamese_neural_network"
      ],
      "metadata": {
        "id": "_83nc-r3t0z9",
        "outputId": "69ab212d-1030-44a4-ef5b-bf4c3c770e9a",
        "colab": {
          "base_uri": "https://localhost:8080/"
        }
      },
      "execution_count": null,
      "outputs": [
        {
          "output_type": "stream",
          "name": "stdout",
          "text": [
            "/content/few-shot-learning/siamese_neural_network\n"
          ]
        }
      ]
    },
    {
      "cell_type": "code",
      "source": [
        "!ls"
      ],
      "metadata": {
        "id": "8ssFkERczJ8l",
        "outputId": "8e41966a-71c9-415f-e465-1216f080c3a0",
        "colab": {
          "base_uri": "https://localhost:8080/"
        }
      },
      "execution_count": null,
      "outputs": [
        {
          "output_type": "stream",
          "name": "stdout",
          "text": [
            "helper_dataset.py   helper_plot.py   siamese_omniglot.ipynb\n",
            "helper_evaluate.py  helper_train.py\n"
          ]
        }
      ]
    },
    {
      "cell_type": "code",
      "source": [
        "# import required libraries\n",
        "import torch\n",
        "import torchvision\n",
        "from torchvision import datasets\n",
        "import torchvision.transforms as transforms\n",
        "from torch.utils.data import Dataset, DataLoader, random_split \n",
        "from torch.utils.data.sampler import SubsetRandomSampler \n",
        "\n",
        "import os\n",
        "import numpy as np\n",
        "import random\n",
        "from PIL import Image\n",
        "import matplotlib.pyplot as plt\n",
        "%matplotlib inline"
      ],
      "metadata": {
        "id": "MvJ_xjjst03M"
      },
      "execution_count": null,
      "outputs": []
    },
    {
      "cell_type": "code",
      "source": [
        "# import local helper functions\n",
        "from helper_dataset import OmniglotDataset, nWayOneShotValidSet\n",
        "from helper_train import train\n",
        "from helper_evaluate import test\n",
        "from helper_plot import show_examples, plot_results"
      ],
      "metadata": {
        "id": "oL4HxU-NuF_m"
      },
      "execution_count": null,
      "outputs": []
    },
    {
      "cell_type": "code",
      "source": [
        "# check if cuda is available\n",
        "train_on_gpu = torch.cuda.is_available()\n",
        "\n",
        "if train_on_gpu:\n",
        "  print(\"CUDA is available!\")\n",
        "else:\n",
        "  print(\"CUDA is not available\")\n",
        "\n",
        "device = torch.device('cuda') if train_on_gpu else torch.device('cpu')"
      ],
      "metadata": {
        "id": "08LobaWvuGGM",
        "outputId": "b0c1c634-b3c2-4d38-ff90-feb30e3bac48",
        "colab": {
          "base_uri": "https://localhost:8080/"
        }
      },
      "execution_count": null,
      "outputs": [
        {
          "output_type": "stream",
          "name": "stdout",
          "text": [
            "CUDA is available!\n"
          ]
        }
      ]
    },
    {
      "cell_type": "code",
      "source": [
        "train_data = datasets.Omniglot(root=\"./data\", download=True, transform=None)\n",
        "test_data = datasets.Omniglot(root=\"./data\", background = False, download=True, transform=None)"
      ],
      "metadata": {
        "id": "WhdFuhjqPWHV",
        "outputId": "9a23c3a0-81c4-4ad7-e3d1-4354b72f28fb",
        "colab": {
          "base_uri": "https://localhost:8080/",
          "height": 150,
          "referenced_widgets": [
            "610c39ed070d4f5498f10fa1c4ad3ec6",
            "c9ac9a9ce3f145b4b7de2422dca90b5f",
            "fbcd5c9add704f19b76209ff504a2232",
            "2f094be69a8b4220b5e372388bdd7fb4",
            "f95a5fbb94824853bda3bf279de6c147",
            "60d604bcf3584585b4ae2878a8c50626",
            "af6a916b977e412ba2f8baaeb490ae29",
            "53d89fe3524847b0b097ac1e2f0b289a",
            "01ba07b28bf74f0a82ec6409138699a0",
            "32ef3cc65082493d9db6b048e08120c7",
            "27fb2144dea94add8b2d8a2651fade2a",
            "4d904272d614493c92cca1017f39ecc3",
            "fb71702da68d47b2b464a866c10edb7e",
            "fc44f667f9e14b39b59e36c1a1ad7545",
            "668192105684458ab4114437c71db93e",
            "ae794b055d314048aa21c841e18c6d91",
            "ca57919f2b2048deb3de5aaeab07bac4",
            "f164241cefa243d1927a65030c7e13f9",
            "001ed132193d41fcb965a97a2eeebfde",
            "39d3adb5d48a46beb98ae08ba70b787f",
            "ac373d58ba1e400ab2a96fbcf4e93cd4",
            "b3ca8be5e62b4c7393729de007786e99"
          ]
        }
      },
      "execution_count": null,
      "outputs": [
        {
          "output_type": "stream",
          "name": "stdout",
          "text": [
            "Downloading https://raw.githubusercontent.com/brendenlake/omniglot/master/python/images_background.zip to ./data/omniglot-py/images_background.zip\n"
          ]
        },
        {
          "output_type": "display_data",
          "data": {
            "text/plain": [
              "  0%|          | 0/9464212 [00:00<?, ?it/s]"
            ],
            "application/vnd.jupyter.widget-view+json": {
              "version_major": 2,
              "version_minor": 0,
              "model_id": "610c39ed070d4f5498f10fa1c4ad3ec6"
            }
          },
          "metadata": {}
        },
        {
          "output_type": "stream",
          "name": "stdout",
          "text": [
            "Extracting ./data/omniglot-py/images_background.zip to ./data/omniglot-py\n",
            "Downloading https://raw.githubusercontent.com/brendenlake/omniglot/master/python/images_evaluation.zip to ./data/omniglot-py/images_evaluation.zip\n"
          ]
        },
        {
          "output_type": "display_data",
          "data": {
            "text/plain": [
              "  0%|          | 0/6462886 [00:00<?, ?it/s]"
            ],
            "application/vnd.jupyter.widget-view+json": {
              "version_major": 2,
              "version_minor": 0,
              "model_id": "4d904272d614493c92cca1017f39ecc3"
            }
          },
          "metadata": {}
        },
        {
          "output_type": "stream",
          "name": "stdout",
          "text": [
            "Extracting ./data/omniglot-py/images_evaluation.zip to ./data/omniglot-py\n"
          ]
        }
      ]
    },
    {
      "cell_type": "code",
      "source": [
        "root_dir = '/content/few-shot-learning/siamese_neural_network/data/omniglot-py/images_evaluation/'\n",
        "categories = [[folder, os.listdir(root_dir + folder)] for folder in os.listdir(root_dir)  if not folder.startswith('.') ]"
      ],
      "metadata": {
        "id": "ylN9NHx6PWOD"
      },
      "execution_count": null,
      "outputs": []
    },
    {
      "cell_type": "code",
      "source": [
        "data_size = 10000\n",
        "# choose percentage of training data for validation\n",
        "valid_pct = 0.2\n",
        "valid_size = int(valid_pct * data_size)\n",
        "train_size = data_size - valid_size\n",
        "\n",
        "transform = transforms.Compose(\n",
        "    [transforms.ToTensor()])\n",
        "\n",
        "omniglot_data = OmniglotDataset(categories, root_dir, data_size, transform)\n",
        "train_data, valid_data = random_split(omniglot_data, [train_size, valid_size])\n",
        "\n",
        "## define dataloader parameters\n",
        "# number of subprocesses to use for data loading\n",
        "num_workers = 0\n",
        "# how many samples per batch to load\n",
        "batch_size = 128\n",
        "train_loader = DataLoader(train_data, batch_size=batch_size, num_workers=num_workers)\n",
        "valid_loader = DataLoader(valid_data, batch_size=batch_size, num_workers=num_workers)"
      ],
      "metadata": {
        "id": "d2HmaM_LPWS7"
      },
      "execution_count": null,
      "outputs": []
    },
    {
      "cell_type": "code",
      "source": [
        "show_examples(train_loader)"
      ],
      "metadata": {
        "id": "rsz6O2fat06O",
        "outputId": "59b7d030-4159-4c16-c5f0-43d4d28c4216",
        "colab": {
          "base_uri": "https://localhost:8080/",
          "height": 203
        }
      },
      "execution_count": null,
      "outputs": [
        {
          "output_type": "display_data",
          "data": {
            "text/plain": [
              "<Figure size 432x288 with 2 Axes>"
            ],
            "image/png": "[encoded data removed]"
          },
          "metadata": {
            "needs_background": "light"
          }
        }
      ]
    },
    {
      "cell_type": "code",
      "source": [
        "test_size = 500\n",
        "n_way = 4\n",
        "batch_size = 1\n",
        "num_workers = 0\n",
        "\n",
        "test_data = nWayOneShotValidSet(categories, root_dir, test_size, n_way, transform)\n",
        "test_loader = DataLoader(test_data, batch_size=batch_size, num_workers=num_workers)"
      ],
      "metadata": {
        "id": "eAqftj1cPkjU"
      },
      "execution_count": null,
      "outputs": []
    },
    {
      "cell_type": "code",
      "source": [
        "# print out some data stats\n",
        "print(\"Number of training images: \", len(train_data))\n",
        "print(\"Number of validation images: \", len(valid_data))\n",
        "print(\"Number of test images: \", len(test_data))\n",
        "\n",
        "for img, _, _ in train_loader:\n",
        "  print(\"Image batch dimension: \", img.shape)\n",
        "  break"
      ],
      "metadata": {
        "id": "mvBZQLOyt09O",
        "outputId": "d8a4f07b-f8a4-45a8-8f26-4554b5f2c045",
        "colab": {
          "base_uri": "https://localhost:8080/"
        }
      },
      "execution_count": null,
      "outputs": [
        {
          "output_type": "stream",
          "name": "stdout",
          "text": [
            "Number of training images:  8000\n",
            "Number of validation images:  2000\n",
            "Number of test images:  500\n",
            "Image batch dimension:  torch.Size([128, 1, 105, 105])\n"
          ]
        }
      ]
    },
    {
      "cell_type": "code",
      "source": [
        "import torch.nn as nn\n",
        "import torch.nn.functional as F\n",
        "\n",
        "class SiameseNetwork(nn.Module):\n",
        "  def __init__(self):\n",
        "    super(SiameseNetwork, self).__init__()\n",
        "    \n",
        "    # Conv2d(in_channels, out_channels, kernel_size)\n",
        "    self.conv1 = nn.Conv2d(1, 64, 10)\n",
        "    self.conv2 = nn.Conv2d(64, 128, 7)\n",
        "    self.conv3 = nn.Conv2d(128, 128, 4)\n",
        "    self.conv4 = nn.Conv2d(128, 256, 4)\n",
        "\n",
        "    self.bn1 = nn.BatchNorm2d(64)\n",
        "    self.bn2 = nn.BatchNorm2d(128)\n",
        "    self.bn3 = nn.BatchNorm2d(128)\n",
        "    self.bn4 = nn.BatchNorm2d(256)\n",
        "\n",
        "    self.dropout1 = nn.Dropout(0.1)\n",
        "    self.dropout2 = nn.Dropout(0.5)\n",
        "\n",
        "    self.fc1 = nn.Linear(256*6*6, 4096)\n",
        "    self.fc2 = nn.Linear(4096, 1)\n",
        "\n",
        "  def convolution(self, x):\n",
        "    x = F.relu(self.bn1(self.conv1(x)))\n",
        "    x = F.max_pool2d(x, (2,2))\n",
        "    x = F.relu(self.bn2(self.conv2(x)))\n",
        "    x = F.max_pool2d(x, (2,2))\n",
        "    x = F.relu(self.bn3(self.conv3(x)))\n",
        "    x = F.max_pool2d(x, (2,2))\n",
        "    x = F.relu(self.bn4(self.conv4(x)))\n",
        "\n",
        "    return x\n",
        "\n",
        "  def forward(self, x1, x2):\n",
        "    x1 = self.convolution(x1)\n",
        "    x2 = self.convolution(x2)\n",
        "\n",
        "    # flatten input image\n",
        "    x1 = x1.view(-1, 256*6*6)\n",
        "    x2 = x2.view(-1, 256*6*6)\n",
        "\n",
        "    x1 = torch.sigmoid(self.fc1(x1))\n",
        "    x2 = torch.sigmoid(self.fc1(x2))\n",
        "\n",
        "    x = torch.abs(x1 - x2)\n",
        "    x = self.fc2(x)\n",
        "\n",
        "    return x\n",
        "\n",
        "model = SiameseNetwork()\n",
        "model.to(device)\n",
        "print(model)"
      ],
      "metadata": {
        "id": "zbX9MPrxxGwv",
        "outputId": "e6779efa-a7a2-45bb-c907-9ceba211baf2",
        "colab": {
          "base_uri": "https://localhost:8080/"
        }
      },
      "execution_count": null,
      "outputs": [
        {
          "output_type": "stream",
          "name": "stdout",
          "text": [
            "SiameseNetwork(\n",
            "  (conv1): Conv2d(1, 64, kernel_size=(10, 10), stride=(1, 1))\n",
            "  (conv2): Conv2d(64, 128, kernel_size=(7, 7), stride=(1, 1))\n",
            "  (conv3): Conv2d(128, 128, kernel_size=(4, 4), stride=(1, 1))\n",
            "  (conv4): Conv2d(128, 256, kernel_size=(4, 4), stride=(1, 1))\n",
            "  (bn1): BatchNorm2d(64, eps=1e-05, momentum=0.1, affine=True, track_running_stats=True)\n",
            "  (bn2): BatchNorm2d(128, eps=1e-05, momentum=0.1, affine=True, track_running_stats=True)\n",
            "  (bn3): BatchNorm2d(128, eps=1e-05, momentum=0.1, affine=True, track_running_stats=True)\n",
            "  (bn4): BatchNorm2d(256, eps=1e-05, momentum=0.1, affine=True, track_running_stats=True)\n",
            "  (dropout1): Dropout(p=0.1, inplace=False)\n",
            "  (dropout2): Dropout(p=0.5, inplace=False)\n",
            "  (fc1): Linear(in_features=9216, out_features=4096, bias=True)\n",
            "  (fc2): Linear(in_features=4096, out_features=1, bias=True)\n",
            ")\n"
          ]
        }
      ]
    },
    {
      "cell_type": "code",
      "source": [
        "import torch.optim as optim\n",
        "\n",
        "# specify a loss function\n",
        "criterion = nn.BCEWithLogitsLoss() # categorical cross-entropy\n",
        "\n",
        "# specify optimizer\n",
        "params = model.parameters()\n",
        "optimizer = optim.Adam(params, lr=0.001)"
      ],
      "metadata": {
        "id": "IYXbcCNJxGz2"
      },
      "execution_count": null,
      "outputs": []
    },
    {
      "cell_type": "code",
      "source": [
        "num_epochs = 60\n",
        "train_losses, valid_losses = train(model, train_loader, valid_loader, num_epochs, criterion, optimizer, device)"
      ],
      "metadata": {
        "id": "sSomKSbfxG2y",
        "outputId": "df202744-83fa-439f-8ce7-5f580bb0f1fb",
        "colab": {
          "base_uri": "https://localhost:8080/"
        }
      },
      "execution_count": null,
      "outputs": [
        {
          "output_type": "stream",
          "name": "stdout",
          "text": [
            "Epochs: 1 \tTraining loss: 0.542932 \tValidation loss: 0.462277\n",
            "Validation loss decreased (inf --> 0.462277). Saving model ... \n",
            "Epochs: 2 \tTraining loss: 0.424522 \tValidation loss: 0.396385\n",
            "Validation loss decreased (0.462277 --> 0.396385). Saving model ... \n",
            "Epochs: 3 \tTraining loss: 0.375361 \tValidation loss: 0.371044\n",
            "Validation loss decreased (0.396385 --> 0.371044). Saving model ... \n",
            "Epochs: 4 \tTraining loss: 0.342333 \tValidation loss: 0.337263\n",
            "Validation loss decreased (0.371044 --> 0.337263). Saving model ... \n",
            "Epochs: 5 \tTraining loss: 0.323771 \tValidation loss: 0.348876\n",
            "Epochs: 6 \tTraining loss: 0.315974 \tValidation loss: 0.321139\n",
            "Validation loss decreased (0.337263 --> 0.321139). Saving model ... \n",
            "Epochs: 7 \tTraining loss: 0.293052 \tValidation loss: 0.279487\n",
            "Validation loss decreased (0.321139 --> 0.279487). Saving model ... \n",
            "Epochs: 8 \tTraining loss: 0.284556 \tValidation loss: 0.268605\n",
            "Validation loss decreased (0.279487 --> 0.268605). Saving model ... \n",
            "Epochs: 9 \tTraining loss: 0.285592 \tValidation loss: 0.272818\n",
            "Epochs: 10 \tTraining loss: 0.271106 \tValidation loss: 0.251569\n",
            "Validation loss decreased (0.268605 --> 0.251569). Saving model ... \n",
            "Epochs: 11 \tTraining loss: 0.258107 \tValidation loss: 0.295060\n",
            "Epochs: 12 \tTraining loss: 0.259702 \tValidation loss: 0.276353\n",
            "Epochs: 13 \tTraining loss: 0.249984 \tValidation loss: 0.242120\n",
            "Validation loss decreased (0.251569 --> 0.242120). Saving model ... \n",
            "Epochs: 14 \tTraining loss: 0.237043 \tValidation loss: 0.253500\n",
            "Epochs: 15 \tTraining loss: 0.238947 \tValidation loss: 0.241271\n",
            "Validation loss decreased (0.242120 --> 0.241271). Saving model ... \n",
            "Epochs: 16 \tTraining loss: 0.228525 \tValidation loss: 0.220845\n",
            "Validation loss decreased (0.241271 --> 0.220845). Saving model ... \n",
            "Epochs: 17 \tTraining loss: 0.218775 \tValidation loss: 0.224094\n",
            "Epochs: 18 \tTraining loss: 0.230239 \tValidation loss: 0.234274\n",
            "Epochs: 19 \tTraining loss: 0.208219 \tValidation loss: 0.216930\n",
            "Validation loss decreased (0.220845 --> 0.216930). Saving model ... \n",
            "Epochs: 20 \tTraining loss: 0.202085 \tValidation loss: 0.242427\n",
            "Epochs: 21 \tTraining loss: 0.208820 \tValidation loss: 0.202413\n",
            "Validation loss decreased (0.216930 --> 0.202413). Saving model ... \n",
            "Epochs: 22 \tTraining loss: 0.198266 \tValidation loss: 0.205874\n",
            "Epochs: 23 \tTraining loss: 0.200692 \tValidation loss: 0.223882\n",
            "Epochs: 24 \tTraining loss: 0.202359 \tValidation loss: 0.186080\n",
            "Validation loss decreased (0.202413 --> 0.186080). Saving model ... \n",
            "Epochs: 25 \tTraining loss: 0.211443 \tValidation loss: 0.196167\n",
            "Epochs: 26 \tTraining loss: 0.191705 \tValidation loss: 0.195927\n",
            "Epochs: 27 \tTraining loss: 0.184257 \tValidation loss: 0.178441\n",
            "Validation loss decreased (0.186080 --> 0.178441). Saving model ... \n",
            "Epochs: 28 \tTraining loss: 0.175368 \tValidation loss: 0.180914\n",
            "Epochs: 29 \tTraining loss: 0.173994 \tValidation loss: 0.178764\n",
            "Epochs: 30 \tTraining loss: 0.184294 \tValidation loss: 0.174751\n",
            "Validation loss decreased (0.178441 --> 0.174751). Saving model ... \n",
            "Epochs: 31 \tTraining loss: 0.182957 \tValidation loss: 0.156526\n",
            "Validation loss decreased (0.174751 --> 0.156526). Saving model ... \n",
            "Epochs: 32 \tTraining loss: 0.170383 \tValidation loss: 0.172786\n",
            "Epochs: 33 \tTraining loss: 0.171842 \tValidation loss: 0.175766\n",
            "Epochs: 34 \tTraining loss: 0.164414 \tValidation loss: 0.159681\n",
            "Epochs: 35 \tTraining loss: 0.164984 \tValidation loss: 0.168026\n",
            "Epochs: 36 \tTraining loss: 0.153269 \tValidation loss: 0.161913\n",
            "Epochs: 37 \tTraining loss: 0.154595 \tValidation loss: 0.143716\n",
            "Validation loss decreased (0.156526 --> 0.143716). Saving model ... \n",
            "Epochs: 38 \tTraining loss: 0.155055 \tValidation loss: 0.145056\n",
            "Epochs: 39 \tTraining loss: 0.157050 \tValidation loss: 0.154190\n",
            "Epochs: 40 \tTraining loss: 0.144727 \tValidation loss: 0.128411\n",
            "Validation loss decreased (0.143716 --> 0.128411). Saving model ... \n",
            "Epochs: 41 \tTraining loss: 0.143559 \tValidation loss: 0.147389\n",
            "Epochs: 42 \tTraining loss: 0.140451 \tValidation loss: 0.142850\n",
            "Epochs: 43 \tTraining loss: 0.136378 \tValidation loss: 0.144527\n",
            "Epochs: 44 \tTraining loss: 0.134020 \tValidation loss: 0.140303\n",
            "Epochs: 45 \tTraining loss: 0.130197 \tValidation loss: 0.126439\n",
            "Validation loss decreased (0.128411 --> 0.126439). Saving model ... \n",
            "Epochs: 46 \tTraining loss: 0.136140 \tValidation loss: 0.127751\n",
            "Epochs: 47 \tTraining loss: 0.138303 \tValidation loss: 0.160739\n",
            "Epochs: 48 \tTraining loss: 0.137356 \tValidation loss: 0.157756\n",
            "Epochs: 49 \tTraining loss: 0.127269 \tValidation loss: 0.109647\n",
            "Validation loss decreased (0.126439 --> 0.109647). Saving model ... \n",
            "Epochs: 50 \tTraining loss: 0.134425 \tValidation loss: 0.135438\n",
            "Epochs: 51 \tTraining loss: 0.137364 \tValidation loss: 0.111175\n",
            "Epochs: 52 \tTraining loss: 0.126858 \tValidation loss: 0.112372\n",
            "Epochs: 53 \tTraining loss: 0.123984 \tValidation loss: 0.120672\n",
            "Epochs: 54 \tTraining loss: 0.117268 \tValidation loss: 0.113061\n",
            "Epochs: 55 \tTraining loss: 0.114645 \tValidation loss: 0.104781\n",
            "Validation loss decreased (0.109647 --> 0.104781). Saving model ... \n",
            "Epochs: 56 \tTraining loss: 0.116392 \tValidation loss: 0.123710\n",
            "Epochs: 57 \tTraining loss: 0.114211 \tValidation loss: 0.123667\n",
            "Epochs: 58 \tTraining loss: 0.110194 \tValidation loss: 0.106512\n",
            "Epochs: 59 \tTraining loss: 0.109489 \tValidation loss: 0.102056\n",
            "Validation loss decreased (0.104781 --> 0.102056). Saving model ... \n",
            "Epochs: 60 \tTraining loss: 0.112610 \tValidation loss: 0.123265\n",
            "Finished training!\n"
          ]
        }
      ]
    },
    {
      "cell_type": "code",
      "source": [
        "# plot trainining and validation loss for each epoch\n",
        "plot_results(train_losses, valid_losses, num_epochs)"
      ],
      "metadata": {
        "id": "cMeomez8P80r",
        "outputId": "cfaa8689-a71a-4548-8043-cd5e861d5e8b",
        "colab": {
          "base_uri": "https://localhost:8080/",
          "height": 295
        }
      },
      "execution_count": null,
      "outputs": [
        {
          "output_type": "display_data",
          "data": {
            "text/plain": [
              "<Figure size 432x288 with 1 Axes>"
            ],
            "image/png": "[encoded data removed]"
          },
          "metadata": {
            "needs_background": "light"
          }
        }
      ]
    },
    {
      "cell_type": "code",
      "source": [
        "# load model with the lowest validation loss\n",
        "model.load_state_dict(torch.load('model.pt'))"
      ],
      "metadata": {
        "id": "np-RmtTaYr_5",
        "outputId": "a6d51407-e7ec-4103-ce10-0dfc672faf1d",
        "colab": {
          "base_uri": "https://localhost:8080/"
        }
      },
      "execution_count": null,
      "outputs": [
        {
          "output_type": "execute_result",
          "data": {
            "text/plain": [
              "<All keys matched successfully>"
            ]
          },
          "metadata": {},
          "execution_count": 18
        }
      ]
    },
    {
      "cell_type": "code",
      "source": [
        "test(model, test_loader, n_way, device)"
      ],
      "metadata": {
        "id": "X3Mv5EkmxG8K",
        "outputId": "529622d8-9163-4573-f00b-531362a7a019",
        "colab": {
          "base_uri": "https://localhost:8080/"
        }
      },
      "execution_count": null,
      "outputs": [
        {
          "output_type": "stream",
          "name": "stdout",
          "text": [
            "Accuracy on 4 way: 0.9\n",
            "Accuracy on 4 way: 0.925\n",
            "Accuracy on 4 way: 0.9333333333333333\n",
            "Accuracy on 4 way: 0.925\n",
            "Accuracy on 4 way: 0.93\n",
            "Accuracy on 4 way: 0.925\n"
          ]
        }
      ]
    },
    {
      "cell_type": "code",
      "source": [],
      "metadata": {
        "id": "oiNSX8DwZ_f9"
      },
      "execution_count": null,
      "outputs": []
    }
  ]
}